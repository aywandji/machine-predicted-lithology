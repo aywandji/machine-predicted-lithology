{
 "cells": [
  {
   "cell_type": "code",
   "execution_count": 1,
   "metadata": {
    "executionInfo": {
     "elapsed": 1357,
     "status": "ok",
     "timestamp": 1602782196782,
     "user": {
      "displayName": "Arnaud Yankwa",
      "photoUrl": "",
      "userId": "14841658183693520304"
     },
     "user_tz": -120
    },
    "id": "RHPZbmpwWuqx"
   },
   "outputs": [],
   "source": [
    "import os\n",
    "os.environ[\"CUDA_VISIBLE_DEVICES\"] = \"7\"\n",
    "import sys\n",
    "import numpy as np\n",
    "import pandas as pd\n",
    "import seaborn as sns\n",
    "import matplotlib.pyplot as plt\n",
    "\n",
    "from sklearn.metrics import confusion_matrix, plot_confusion_matrix\n",
    "\n",
    "from sklearn.preprocessing import OneHotEncoder\n",
    "\n",
    "from tqdm import tqdm\n",
    "\n",
    "plt.style.use(\"ggplot\")\n",
    "%load_ext autoreload\n",
    "%autoreload 2"
   ]
  },
  {
   "cell_type": "code",
   "execution_count": 2,
   "metadata": {
    "colab": {
     "base_uri": "https://localhost:8080/",
     "height": 35
    },
    "executionInfo": {
     "elapsed": 1548,
     "status": "ok",
     "timestamp": 1602782226215,
     "user": {
      "displayName": "Arnaud Yankwa",
      "photoUrl": "",
      "userId": "14841658183693520304"
     },
     "user_tz": -120
    },
    "id": "XVs_5zswY1Q7",
    "outputId": "37935049-3b90-4179-a4d5-561ef5445d17"
   },
   "outputs": [],
   "source": [
    "data_folder = \"data/\""
   ]
  },
  {
   "cell_type": "code",
   "execution_count": 3,
   "metadata": {
    "executionInfo": {
     "elapsed": 1376,
     "status": "ok",
     "timestamp": 1602782226217,
     "user": {
      "displayName": "Arnaud Yankwa",
      "photoUrl": "",
      "userId": "14841658183693520304"
     },
     "user_tz": -120
    },
    "id": "_fDgkBrCX8R9"
   },
   "outputs": [],
   "source": [
    "from utils import reduce_mem_usage, WellLogsProcessing, plot_features_importance, penalty_score"
   ]
  },
  {
   "cell_type": "code",
   "execution_count": 4,
   "metadata": {
    "colab": {
     "base_uri": "https://localhost:8080/",
     "height": 52
    },
    "executionInfo": {
     "elapsed": 6646,
     "status": "ok",
     "timestamp": 1602782231893,
     "user": {
      "displayName": "Arnaud Yankwa",
      "photoUrl": "",
      "userId": "14841658183693520304"
     },
     "user_tz": -120
    },
    "id": "RXlPmFe4Ytfw",
    "outputId": "fa1d1f30-87f6-4ce9-f76f-f7ccf7a008a9"
   },
   "outputs": [],
   "source": [
    "dest_file = data_folder + \"train.csv\"\n",
    "train_df = pd.read_csv(data_folder + \"train.csv\",sep=\";\")"
   ]
  },
  {
   "cell_type": "code",
   "execution_count": 5,
   "metadata": {
    "colab": {
     "base_uri": "https://localhost:8080/",
     "height": 1000
    },
    "executionInfo": {
     "elapsed": 8358,
     "status": "ok",
     "timestamp": 1602782233830,
     "user": {
      "displayName": "Arnaud Yankwa",
      "photoUrl": "",
      "userId": "14841658183693520304"
     },
     "user_tz": -120
    },
    "id": "o3pmm_z5n6qV",
    "outputId": "49dea313-3bd8-4c9e-95c1-a9abc084f4d4"
   },
   "outputs": [
    {
     "name": "stdout",
     "output_type": "stream",
     "text": [
      "Memory usage of properties dataframe is : 258.9785385131836  MB\n",
      "******************************\n",
      "Column:  DEPTH_MD\n",
      "dtype before:  float64\n",
      "dtype after:  float32\n",
      "******************************\n",
      "******************************\n",
      "Column:  X_LOC\n",
      "dtype before:  float64\n",
      "dtype after:  float32\n",
      "******************************\n",
      "******************************\n",
      "Column:  Y_LOC\n",
      "dtype before:  float64\n",
      "dtype after:  float32\n",
      "******************************\n",
      "******************************\n",
      "Column:  Z_LOC\n",
      "dtype before:  float64\n",
      "dtype after:  float32\n",
      "******************************\n",
      "******************************\n",
      "Column:  CALI\n",
      "dtype before:  float64\n",
      "dtype after:  float32\n",
      "******************************\n",
      "******************************\n",
      "Column:  RSHA\n",
      "dtype before:  float64\n",
      "dtype after:  float32\n",
      "******************************\n",
      "******************************\n",
      "Column:  RMED\n",
      "dtype before:  float64\n",
      "dtype after:  float32\n",
      "******************************\n",
      "******************************\n",
      "Column:  RDEP\n",
      "dtype before:  float64\n",
      "dtype after:  float32\n",
      "******************************\n",
      "******************************\n",
      "Column:  RHOB\n",
      "dtype before:  float64\n",
      "dtype after:  float32\n",
      "******************************\n",
      "******************************\n",
      "Column:  GR\n",
      "dtype before:  float64\n",
      "dtype after:  float32\n",
      "******************************\n",
      "******************************\n",
      "Column:  SGR\n",
      "dtype before:  float64\n",
      "dtype after:  float32\n",
      "******************************\n",
      "******************************\n",
      "Column:  NPHI\n",
      "dtype before:  float64\n",
      "dtype after:  float32\n",
      "******************************\n",
      "******************************\n",
      "Column:  PEF\n",
      "dtype before:  float64\n",
      "dtype after:  float32\n",
      "******************************\n",
      "******************************\n",
      "Column:  DTC\n",
      "dtype before:  float64\n",
      "dtype after:  float32\n",
      "******************************\n",
      "******************************\n",
      "Column:  SP\n",
      "dtype before:  float64\n",
      "dtype after:  float32\n",
      "******************************\n",
      "******************************\n",
      "Column:  BS\n",
      "dtype before:  float64\n",
      "dtype after:  float32\n",
      "******************************\n",
      "******************************\n",
      "Column:  ROP\n",
      "dtype before:  float64\n",
      "dtype after:  float32\n",
      "******************************\n",
      "******************************\n",
      "Column:  DTS\n",
      "dtype before:  float64\n",
      "dtype after:  float32\n",
      "******************************\n",
      "******************************\n",
      "Column:  DCAL\n",
      "dtype before:  float64\n",
      "dtype after:  float32\n",
      "******************************\n",
      "******************************\n",
      "Column:  DRHO\n",
      "dtype before:  float64\n",
      "dtype after:  float32\n",
      "******************************\n",
      "******************************\n",
      "Column:  MUDWEIGHT\n",
      "dtype before:  float64\n",
      "dtype after:  float32\n",
      "******************************\n",
      "******************************\n",
      "Column:  RMIC\n",
      "dtype before:  float64\n",
      "dtype after:  float32\n",
      "******************************\n",
      "******************************\n",
      "Column:  ROPA\n",
      "dtype before:  float64\n",
      "dtype after:  float32\n",
      "******************************\n",
      "******************************\n",
      "Column:  RXO\n",
      "dtype before:  float64\n",
      "dtype after:  float32\n",
      "******************************\n",
      "******************************\n",
      "Column:  FORCE_2020_LITHOFACIES_LITHOLOGY\n",
      "dtype before:  int64\n",
      "dtype after:  uint32\n",
      "******************************\n",
      "******************************\n",
      "Column:  FORCE_2020_LITHOFACIES_CONFIDENCE\n",
      "dtype before:  float64\n",
      "dtype after:  float32\n",
      "******************************\n",
      "___MEMORY USAGE AFTER COMPLETION:___\n",
      "Memory usage is:  142.884765625  MB\n",
      "This is  55.17243492272094 % of the initial size\n"
     ]
    }
   ],
   "source": [
    "train_df,na = reduce_mem_usage(train_df)"
   ]
  },
  {
   "cell_type": "markdown",
   "metadata": {
    "id": "df1Pdp9NdHAi"
   },
   "source": [
    "## Splitting data per well."
   ]
  },
  {
   "cell_type": "code",
   "execution_count": 6,
   "metadata": {},
   "outputs": [],
   "source": [
    "### get train wells and fit imputer on them\n",
    "###93000 is only in well 16/4-1\n",
    "all_lith  = train_df.FORCE_2020_LITHOFACIES_LITHOLOGY.unique()\n",
    "all_wells  = train_df.WELL.unique()\n",
    "\n",
    "###Keep 4 wells for val/test sets\n",
    "val_wells = [\"16/10-1\",\"16/2-16\"]\n",
    "test_wells = [\"16/11-1 ST3\",\"34/3-1 A\"]\n",
    "train_wells = [well_name for well_name in all_wells if well_name not in val_wells+test_wells]"
   ]
  },
  {
   "cell_type": "code",
   "execution_count": 7,
   "metadata": {},
   "outputs": [],
   "source": [
    "full_df = train_df.loc[train_df.WELL.isin(train_wells),:]"
   ]
  },
  {
   "cell_type": "markdown",
   "metadata": {
    "id": "5DTPAp2W_5Nx"
   },
   "source": [
    "## data processing"
   ]
  },
  {
   "cell_type": "markdown",
   "metadata": {},
   "source": [
    "Features selection have been done from data_analysis notebooks. Those features are either very discriminative or with very few null values."
   ]
  },
  {
   "cell_type": "code",
   "execution_count": 8,
   "metadata": {},
   "outputs": [],
   "source": [
    "numeric_features = ['RMED', 'RDEP', 'RHOB', 'GR', 'NPHI','DTC','RXO','RSHA',\n",
    "                    \"X_LOC\",\"Y_LOC\",\"Z_LOC\",'DEPTH_MD']\n",
    "# numeric_features = ['RMED', 'RDEP', 'RHOB', 'GR', 'NPHI','DTC',\"X_LOC\",\"Y_LOC\",\"Z_LOC\",'DEPTH_MD']\n",
    "# numeric_features = ['RMED', 'RDEP','DRHO','CALI',\n",
    "#                     'RHOB', 'GR', 'NPHI','DTC',\"DTS\",'PEF','SP','RXO','RSHA',\n",
    "#                     \"RMIC\",\"X_LOC\",\"Y_LOC\",\"Z_LOC\",'DEPTH_MD']\n",
    "\n",
    "cat_features = ['GROUP','FORMATION']\n",
    "\n",
    "others_numeric=[]\n",
    "\n",
    "all_formations = list(full_df.FORMATION.unique())\n",
    "all_formations.remove(np.nan)\n",
    "all_formations = sorted(all_formations)\n",
    "\n",
    "all_groups = list(full_df.GROUP.unique())\n",
    "all_groups.remove(np.nan)\n",
    "all_groups = sorted(all_groups)\n",
    "\n",
    "#### Instanciate Logs Processing pipeline. Here we will only fill numerical empty values\n",
    "logs_processor = WellLogsProcessing(numeric_features ,cat_features ,\n",
    "                                    others_numeric,all_formations ,all_groups,\n",
    "                                    remove_outliers=False,process_num_features=True,\n",
    "                                      impute_categorical = False, encode_categorical=False)"
   ]
  },
  {
   "cell_type": "code",
   "execution_count": 9,
   "metadata": {},
   "outputs": [
    {
     "name": "stdout",
     "output_type": "stream",
     "text": [
      "Fitting iterative imputer\n",
      "[IterativeImputer] Completing matrix with shape (1125622, 12)\n",
      "[IterativeImputer] Change: 103628.125, scaled tolerance: 6856.661 \n",
      "[IterativeImputer] Change: 336598.71875, scaled tolerance: 6856.661 \n",
      "[IterativeImputer] Change: 153881.625, scaled tolerance: 6856.661 \n",
      "[IterativeImputer] Change: 52670.0859375, scaled tolerance: 6856.661 \n",
      "[IterativeImputer] Change: 151230.25, scaled tolerance: 6856.661 \n",
      "[IterativeImputer] Change: 121455.234375, scaled tolerance: 6856.661 \n",
      "[IterativeImputer] Change: 217391.984375, scaled tolerance: 6856.661 \n",
      "[IterativeImputer] Change: 113505.203125, scaled tolerance: 6856.661 \n",
      "[IterativeImputer] Change: 159394.984375, scaled tolerance: 6856.661 \n",
      "[IterativeImputer] Change: 85204.2265625, scaled tolerance: 6856.661 \n"
     ]
    },
    {
     "name": "stderr",
     "output_type": "stream",
     "text": [
      "/data/pau117/STAGIAIRES/YANKWA/conda/envs/leyanki_tf/lib/python3.7/site-packages/sklearn/impute/_iterative.py:638: ConvergenceWarning: [IterativeImputer] Early stopping criterion not reached.\n",
      "  \" reached.\", ConvergenceWarning)\n"
     ]
    },
    {
     "name": "stdout",
     "output_type": "stream",
     "text": [
      "[IterativeImputer] Completing matrix with shape (1125622, 12)\n",
      "Fitting data scaler\n"
     ]
    }
   ],
   "source": [
    "######### Numerical features empty values imputation and scaling\n",
    "filled_full_data = logs_processor.get_processed_data(full_df.loc[:,full_df.columns],is_train_data=True)"
   ]
  },
  {
   "cell_type": "code",
   "execution_count": 10,
   "metadata": {},
   "outputs": [
    {
     "name": "stdout",
     "output_type": "stream",
     "text": [
      "<class 'pandas.core.frame.DataFrame'>\n",
      "Int64Index: 1125622 entries, 0 to 1170510\n",
      "Data columns (total 15 columns):\n",
      " #   Column     Non-Null Count    Dtype  \n",
      "---  ------     --------------    -----  \n",
      " 0   RMED       1125622 non-null  float64\n",
      " 1   RDEP       1125622 non-null  float64\n",
      " 2   RHOB       1125622 non-null  float64\n",
      " 3   GR         1125622 non-null  float64\n",
      " 4   NPHI       1125622 non-null  float64\n",
      " 5   DTC        1125622 non-null  float64\n",
      " 6   RXO        1125622 non-null  float64\n",
      " 7   RSHA       1125622 non-null  float64\n",
      " 8   X_LOC      1125622 non-null  float64\n",
      " 9   Y_LOC      1125622 non-null  float64\n",
      " 10  Z_LOC      1125622 non-null  float64\n",
      " 11  DEPTH_MD   1125622 non-null  float64\n",
      " 12  GROUP      1124344 non-null  object \n",
      " 13  FORMATION  998829 non-null   object \n",
      " 14  WELL       1125622 non-null  object \n",
      "dtypes: float64(12), object(3)\n",
      "memory usage: 137.4+ MB\n"
     ]
    }
   ],
   "source": [
    "filled_full_data.info()"
   ]
  },
  {
   "cell_type": "markdown",
   "metadata": {},
   "source": [
    "## GROUP,FEATURE PREDICTION\n",
    "Now we will predict GROUP AND FORMATION features instead of just imputing them with the mode value."
   ]
  },
  {
   "cell_type": "code",
   "execution_count": 11,
   "metadata": {},
   "outputs": [],
   "source": [
    "from sklearn.model_selection import train_test_split\n",
    "from sklearn.preprocessing import RobustScaler\n",
    "from catboost import CatBoostClassifier\n",
    "from sklearn.metrics import accuracy_score\n",
    "from utils import predict_target, get_predictor"
   ]
  },
  {
   "cell_type": "code",
   "execution_count": 12,
   "metadata": {
    "scrolled": true
   },
   "outputs": [
    {
     "name": "stdout",
     "output_type": "stream",
     "text": [
      "0:\tlearn: 0.6135676\ttest: 0.6135365\tbest: 0.6135365 (0)\ttotal: 11.2ms\tremaining: 5.57s\n",
      "10:\tlearn: 0.2618543\ttest: 0.2617322\tbest: 0.2617322 (10)\ttotal: 111ms\tremaining: 4.92s\n",
      "20:\tlearn: 0.1657779\ttest: 0.1656400\tbest: 0.1656400 (20)\ttotal: 205ms\tremaining: 4.68s\n",
      "30:\tlearn: 0.1351343\ttest: 0.1349535\tbest: 0.1349535 (30)\ttotal: 298ms\tremaining: 4.51s\n",
      "40:\tlearn: 0.1191061\ttest: 0.1189453\tbest: 0.1189453 (40)\ttotal: 385ms\tremaining: 4.31s\n",
      "50:\tlearn: 0.1098510\ttest: 0.1096548\tbest: 0.1096548 (50)\ttotal: 472ms\tremaining: 4.16s\n",
      "60:\tlearn: 0.1035811\ttest: 0.1034252\tbest: 0.1034252 (60)\ttotal: 563ms\tremaining: 4.05s\n",
      "70:\tlearn: 0.0989810\ttest: 0.0988554\tbest: 0.0988554 (70)\ttotal: 649ms\tremaining: 3.92s\n",
      "80:\tlearn: 0.0954795\ttest: 0.0953831\tbest: 0.0953831 (80)\ttotal: 738ms\tremaining: 3.82s\n",
      "90:\tlearn: 0.0922658\ttest: 0.0921882\tbest: 0.0921882 (90)\ttotal: 840ms\tremaining: 3.77s\n",
      "100:\tlearn: 0.0897679\ttest: 0.0897120\tbest: 0.0897120 (100)\ttotal: 924ms\tremaining: 3.65s\n",
      "110:\tlearn: 0.0873501\ttest: 0.0873019\tbest: 0.0873019 (110)\ttotal: 1.01s\tremaining: 3.55s\n",
      "120:\tlearn: 0.0854542\ttest: 0.0854131\tbest: 0.0854131 (120)\ttotal: 1.1s\tremaining: 3.44s\n",
      "130:\tlearn: 0.0835587\ttest: 0.0835251\tbest: 0.0835251 (130)\ttotal: 1.18s\tremaining: 3.33s\n",
      "140:\tlearn: 0.0816826\ttest: 0.0816490\tbest: 0.0816490 (140)\ttotal: 1.27s\tremaining: 3.23s\n",
      "150:\tlearn: 0.0801503\ttest: 0.0801200\tbest: 0.0801200 (150)\ttotal: 1.35s\tremaining: 3.13s\n",
      "160:\tlearn: 0.0781826\ttest: 0.0781440\tbest: 0.0781440 (160)\ttotal: 1.44s\tremaining: 3.04s\n",
      "170:\tlearn: 0.0770901\ttest: 0.0770749\tbest: 0.0770749 (170)\ttotal: 1.53s\tremaining: 2.94s\n",
      "180:\tlearn: 0.0757673\ttest: 0.0757699\tbest: 0.0757699 (180)\ttotal: 1.61s\tremaining: 2.84s\n",
      "190:\tlearn: 0.0748124\ttest: 0.0748338\tbest: 0.0748338 (190)\ttotal: 1.7s\tremaining: 2.75s\n",
      "200:\tlearn: 0.0736986\ttest: 0.0737291\tbest: 0.0737291 (200)\ttotal: 1.78s\tremaining: 2.65s\n",
      "210:\tlearn: 0.0725683\ttest: 0.0726089\tbest: 0.0726089 (210)\ttotal: 1.87s\tremaining: 2.56s\n",
      "220:\tlearn: 0.0716577\ttest: 0.0717092\tbest: 0.0717092 (220)\ttotal: 1.95s\tremaining: 2.47s\n",
      "230:\tlearn: 0.0707240\ttest: 0.0707841\tbest: 0.0707841 (230)\ttotal: 2.04s\tremaining: 2.37s\n",
      "240:\tlearn: 0.0694332\ttest: 0.0695124\tbest: 0.0695124 (240)\ttotal: 2.12s\tremaining: 2.28s\n",
      "250:\tlearn: 0.0682948\ttest: 0.0683810\tbest: 0.0683810 (250)\ttotal: 2.21s\tremaining: 2.19s\n",
      "260:\tlearn: 0.0674798\ttest: 0.0675601\tbest: 0.0675601 (260)\ttotal: 2.29s\tremaining: 2.1s\n",
      "270:\tlearn: 0.0668099\ttest: 0.0668892\tbest: 0.0668892 (270)\ttotal: 2.38s\tremaining: 2.01s\n",
      "280:\tlearn: 0.0660113\ttest: 0.0660874\tbest: 0.0660874 (280)\ttotal: 2.46s\tremaining: 1.92s\n",
      "290:\tlearn: 0.0652060\ttest: 0.0652841\tbest: 0.0652841 (290)\ttotal: 2.54s\tremaining: 1.83s\n",
      "300:\tlearn: 0.0642456\ttest: 0.0643274\tbest: 0.0643274 (300)\ttotal: 2.63s\tremaining: 1.74s\n",
      "310:\tlearn: 0.0635747\ttest: 0.0636578\tbest: 0.0636578 (310)\ttotal: 2.71s\tremaining: 1.65s\n",
      "320:\tlearn: 0.0628152\ttest: 0.0629091\tbest: 0.0629091 (320)\ttotal: 2.79s\tremaining: 1.56s\n",
      "330:\tlearn: 0.0622455\ttest: 0.0623437\tbest: 0.0623437 (330)\ttotal: 2.88s\tremaining: 1.47s\n",
      "340:\tlearn: 0.0615595\ttest: 0.0616702\tbest: 0.0616702 (340)\ttotal: 2.96s\tremaining: 1.38s\n",
      "350:\tlearn: 0.0611089\ttest: 0.0612278\tbest: 0.0612278 (350)\ttotal: 3.04s\tremaining: 1.29s\n",
      "360:\tlearn: 0.0605388\ttest: 0.0606640\tbest: 0.0606640 (360)\ttotal: 3.13s\tremaining: 1.2s\n",
      "370:\tlearn: 0.0599907\ttest: 0.0601280\tbest: 0.0601280 (370)\ttotal: 3.21s\tremaining: 1.12s\n",
      "380:\tlearn: 0.0593171\ttest: 0.0594636\tbest: 0.0594636 (380)\ttotal: 3.3s\tremaining: 1.03s\n",
      "390:\tlearn: 0.0588716\ttest: 0.0590196\tbest: 0.0590196 (390)\ttotal: 3.38s\tremaining: 942ms\n",
      "400:\tlearn: 0.0585141\ttest: 0.0586698\tbest: 0.0586698 (400)\ttotal: 3.46s\tremaining: 855ms\n",
      "410:\tlearn: 0.0578790\ttest: 0.0580450\tbest: 0.0580450 (410)\ttotal: 3.55s\tremaining: 768ms\n",
      "420:\tlearn: 0.0573278\ttest: 0.0574891\tbest: 0.0574891 (420)\ttotal: 3.63s\tremaining: 681ms\n",
      "430:\tlearn: 0.0570027\ttest: 0.0571713\tbest: 0.0571713 (430)\ttotal: 3.71s\tremaining: 595ms\n",
      "440:\tlearn: 0.0565260\ttest: 0.0567096\tbest: 0.0567096 (440)\ttotal: 3.8s\tremaining: 508ms\n",
      "450:\tlearn: 0.0559371\ttest: 0.0561243\tbest: 0.0561243 (450)\ttotal: 3.88s\tremaining: 422ms\n",
      "460:\tlearn: 0.0554911\ttest: 0.0556858\tbest: 0.0556858 (460)\ttotal: 3.97s\tremaining: 336ms\n",
      "470:\tlearn: 0.0550769\ttest: 0.0552697\tbest: 0.0552697 (470)\ttotal: 4.05s\tremaining: 249ms\n",
      "480:\tlearn: 0.0546125\ttest: 0.0548158\tbest: 0.0548158 (480)\ttotal: 4.13s\tremaining: 163ms\n",
      "490:\tlearn: 0.0542640\ttest: 0.0544735\tbest: 0.0544735 (490)\ttotal: 4.22s\tremaining: 77.3ms\n",
      "499:\tlearn: 0.0538194\ttest: 0.0540386\tbest: 0.0540386 (499)\ttotal: 4.29s\tremaining: 0us\n",
      "bestTest = 0.05403856315\n",
      "bestIteration = 499\n",
      "0.8792028683398649\n",
      "0.8780890207187295\n",
      "there are still 0 values to fill\n",
      "----------------\n",
      "\n"
     ]
    }
   ],
   "source": [
    "### GROUP prediction. We define predictors, classifier and we train and predict GROUP feature\n",
    "\n",
    "group_predictors = ['DEPTH_MD', 'X_LOC', 'Y_LOC', 'Z_LOC','RMED', 'RDEP', 'RHOB', 'GR', 'NPHI',\n",
    "                       'DTC',\"RSHA\"]\n",
    "catboost_classifier = CatBoostClassifier(iterations=500,learning_rate=0.1,depth = 4,\n",
    "                                            min_data_in_leaf = 50,\n",
    "                                             bagging_temperature = 10,\n",
    "                                            grow_policy = 'Depthwise',objective='MultiClassOneVsAll',\n",
    "                                            custom_metric = ['Accuracy'],\n",
    "                                            early_stopping_rounds = 100,task_type='GPU',\n",
    "                                            train_dir = data_folder)\n",
    "filled2, group_imputer, group_predictors_scaler = get_predictor(filled_full_data.loc[:,filled_full_data.columns],\n",
    "                                                                  catboost_classifier,\n",
    "                                                                   target='GROUP',regressors=group_predictors)"
   ]
  },
  {
   "cell_type": "code",
   "execution_count": 13,
   "metadata": {},
   "outputs": [
    {
     "data": {
      "image/png": "[encoded data removed]",
      "text/plain": [
       "<Figure size 1440x1440 with 1 Axes>"
      ]
     },
     "metadata": {},
     "output_type": "display_data"
    }
   ],
   "source": [
    "plot_features_importance(group_imputer.feature_importances_,group_imputer.feature_names_,figsize=(20,20))"
   ]
  },
  {
   "cell_type": "markdown",
   "metadata": {},
   "source": [
    "- We splitted samples having a non null GROUP feature in train/val sets.\n",
    "- After training, our GROUP classifier is accurate at 88% on val set. So we can use it to impute GROUP feature"
   ]
  },
  {
   "cell_type": "code",
   "execution_count": 14,
   "metadata": {},
   "outputs": [],
   "source": [
    "filled2[\"enc_GROUP\"] = filled2.GROUP.map(all_groups.index).astype(int).astype(\"category\")"
   ]
  },
  {
   "cell_type": "code",
   "execution_count": 15,
   "metadata": {},
   "outputs": [
    {
     "name": "stdout",
     "output_type": "stream",
     "text": [
      "0:\tlearn: 2.7765940\ttest: 2.7789198\tbest: 2.7789198 (0)\ttotal: 334ms\tremaining: 4m 27s\n",
      "10:\tlearn: 1.9085548\ttest: 1.9124003\tbest: 1.9124003 (10)\ttotal: 3.59s\tremaining: 4m 17s\n",
      "20:\tlearn: 1.6234507\ttest: 1.6273141\tbest: 1.6273141 (20)\ttotal: 6.84s\tremaining: 4m 13s\n",
      "30:\tlearn: 1.4680277\ttest: 1.4720848\tbest: 1.4720848 (30)\ttotal: 10.1s\tremaining: 4m 9s\n",
      "40:\tlearn: 1.3296694\ttest: 1.3334583\tbest: 1.3334583 (40)\ttotal: 13.3s\tremaining: 4m 5s\n",
      "50:\tlearn: 1.2300239\ttest: 1.2337159\tbest: 1.2337159 (50)\ttotal: 16.6s\tremaining: 4m 3s\n",
      "60:\tlearn: 1.1486738\ttest: 1.1516964\tbest: 1.1516964 (60)\ttotal: 19.8s\tremaining: 3m 59s\n",
      "70:\tlearn: 1.0996774\ttest: 1.1029074\tbest: 1.1029074 (70)\ttotal: 23s\tremaining: 3m 56s\n",
      "80:\tlearn: 1.0576672\ttest: 1.0609767\tbest: 1.0609767 (80)\ttotal: 26.2s\tremaining: 3m 52s\n",
      "90:\tlearn: 1.0132553\ttest: 1.0164015\tbest: 1.0164015 (90)\ttotal: 29.5s\tremaining: 3m 49s\n",
      "100:\tlearn: 0.9661177\ttest: 0.9691423\tbest: 0.9691423 (100)\ttotal: 32.7s\tremaining: 3m 46s\n",
      "110:\tlearn: 0.9394888\ttest: 0.9426401\tbest: 0.9426401 (110)\ttotal: 35.9s\tremaining: 3m 42s\n",
      "120:\tlearn: 0.9182842\ttest: 0.9214797\tbest: 0.9214797 (120)\ttotal: 39.1s\tremaining: 3m 39s\n",
      "130:\tlearn: 0.8925136\ttest: 0.8956072\tbest: 0.8956072 (130)\ttotal: 42.4s\tremaining: 3m 36s\n",
      "140:\tlearn: 0.8697934\ttest: 0.8728995\tbest: 0.8728995 (140)\ttotal: 45.6s\tremaining: 3m 33s\n",
      "150:\tlearn: 0.8397123\ttest: 0.8428568\tbest: 0.8428568 (150)\ttotal: 48.8s\tremaining: 3m 29s\n",
      "160:\tlearn: 0.8159620\ttest: 0.8189708\tbest: 0.8189708 (160)\ttotal: 52s\tremaining: 3m 26s\n",
      "170:\tlearn: 0.7916277\ttest: 0.7946908\tbest: 0.7946908 (170)\ttotal: 55.3s\tremaining: 3m 23s\n",
      "180:\tlearn: 0.7762448\ttest: 0.7793087\tbest: 0.7793087 (180)\ttotal: 58.5s\tremaining: 3m 20s\n",
      "190:\tlearn: 0.7571021\ttest: 0.7602433\tbest: 0.7602433 (190)\ttotal: 1m 1s\tremaining: 3m 16s\n",
      "200:\tlearn: 0.7364282\ttest: 0.7395253\tbest: 0.7395253 (200)\ttotal: 1m 4s\tremaining: 3m 13s\n",
      "210:\tlearn: 0.7224613\ttest: 0.7256000\tbest: 0.7256000 (210)\ttotal: 1m 8s\tremaining: 3m 10s\n",
      "220:\tlearn: 0.7119254\ttest: 0.7152536\tbest: 0.7152536 (220)\ttotal: 1m 11s\tremaining: 3m 7s\n",
      "230:\tlearn: 0.7004312\ttest: 0.7038393\tbest: 0.7038393 (230)\ttotal: 1m 14s\tremaining: 3m 3s\n",
      "240:\tlearn: 0.6848915\ttest: 0.6883458\tbest: 0.6883458 (240)\ttotal: 1m 17s\tremaining: 3m\n",
      "250:\tlearn: 0.6708395\ttest: 0.6743735\tbest: 0.6743735 (250)\ttotal: 1m 21s\tremaining: 2m 57s\n",
      "260:\tlearn: 0.6564351\ttest: 0.6600039\tbest: 0.6600039 (260)\ttotal: 1m 24s\tremaining: 2m 54s\n",
      "270:\tlearn: 0.6425886\ttest: 0.6461997\tbest: 0.6461997 (270)\ttotal: 1m 27s\tremaining: 2m 50s\n",
      "280:\tlearn: 0.6309156\ttest: 0.6345938\tbest: 0.6345938 (280)\ttotal: 1m 30s\tremaining: 2m 47s\n",
      "290:\tlearn: 0.6222031\ttest: 0.6258741\tbest: 0.6258741 (290)\ttotal: 1m 34s\tremaining: 2m 44s\n",
      "300:\tlearn: 0.6076229\ttest: 0.6114308\tbest: 0.6114308 (300)\ttotal: 1m 37s\tremaining: 2m 41s\n",
      "310:\tlearn: 0.5975541\ttest: 0.6013742\tbest: 0.6013742 (310)\ttotal: 1m 40s\tremaining: 2m 37s\n",
      "320:\tlearn: 0.5892391\ttest: 0.5932931\tbest: 0.5932931 (320)\ttotal: 1m 43s\tremaining: 2m 34s\n",
      "330:\tlearn: 0.5811365\ttest: 0.5852247\tbest: 0.5852247 (330)\ttotal: 1m 46s\tremaining: 2m 31s\n",
      "340:\tlearn: 0.5740206\ttest: 0.5782118\tbest: 0.5782118 (340)\ttotal: 1m 50s\tremaining: 2m 28s\n",
      "350:\tlearn: 0.5614387\ttest: 0.5656999\tbest: 0.5656999 (350)\ttotal: 1m 53s\tremaining: 2m 25s\n",
      "360:\tlearn: 0.5544792\ttest: 0.5587767\tbest: 0.5587767 (360)\ttotal: 1m 56s\tremaining: 2m 21s\n",
      "370:\tlearn: 0.5466690\ttest: 0.5510239\tbest: 0.5510239 (370)\ttotal: 1m 59s\tremaining: 2m 18s\n",
      "380:\tlearn: 0.5416353\ttest: 0.5461143\tbest: 0.5461143 (380)\ttotal: 2m 3s\tremaining: 2m 15s\n",
      "390:\tlearn: 0.5346221\ttest: 0.5391893\tbest: 0.5391893 (390)\ttotal: 2m 6s\tremaining: 2m 12s\n",
      "400:\tlearn: 0.5305775\ttest: 0.5352825\tbest: 0.5352825 (400)\ttotal: 2m 9s\tremaining: 2m 8s\n",
      "410:\tlearn: 0.5238157\ttest: 0.5286085\tbest: 0.5286085 (410)\ttotal: 2m 12s\tremaining: 2m 5s\n",
      "420:\tlearn: 0.5153298\ttest: 0.5202192\tbest: 0.5202192 (420)\ttotal: 2m 15s\tremaining: 2m 2s\n",
      "430:\tlearn: 0.5099314\ttest: 0.5148218\tbest: 0.5148218 (430)\ttotal: 2m 19s\tremaining: 1m 59s\n",
      "440:\tlearn: 0.5046215\ttest: 0.5095422\tbest: 0.5095422 (440)\ttotal: 2m 22s\tremaining: 1m 55s\n",
      "450:\tlearn: 0.4981890\ttest: 0.5030859\tbest: 0.5030859 (450)\ttotal: 2m 25s\tremaining: 1m 52s\n",
      "460:\tlearn: 0.4901894\ttest: 0.4951092\tbest: 0.4951092 (460)\ttotal: 2m 28s\tremaining: 1m 49s\n",
      "470:\tlearn: 0.4849456\ttest: 0.4898656\tbest: 0.4898656 (470)\ttotal: 2m 32s\tremaining: 1m 46s\n",
      "480:\tlearn: 0.4818202\ttest: 0.4868605\tbest: 0.4868605 (480)\ttotal: 2m 35s\tremaining: 1m 43s\n",
      "490:\tlearn: 0.4741593\ttest: 0.4792606\tbest: 0.4792606 (490)\ttotal: 2m 38s\tremaining: 1m 39s\n",
      "500:\tlearn: 0.4659055\ttest: 0.4709707\tbest: 0.4709707 (500)\ttotal: 2m 41s\tremaining: 1m 36s\n",
      "510:\tlearn: 0.4587236\ttest: 0.4638262\tbest: 0.4638262 (510)\ttotal: 2m 45s\tremaining: 1m 33s\n",
      "520:\tlearn: 0.4539699\ttest: 0.4589940\tbest: 0.4589940 (520)\ttotal: 2m 48s\tremaining: 1m 30s\n",
      "530:\tlearn: 0.4512271\ttest: 0.4562226\tbest: 0.4562226 (530)\ttotal: 2m 51s\tremaining: 1m 26s\n",
      "540:\tlearn: 0.4457072\ttest: 0.4507480\tbest: 0.4507480 (540)\ttotal: 2m 54s\tremaining: 1m 23s\n",
      "550:\tlearn: 0.4420992\ttest: 0.4471346\tbest: 0.4471346 (550)\ttotal: 2m 58s\tremaining: 1m 20s\n",
      "560:\tlearn: 0.4364294\ttest: 0.4415240\tbest: 0.4415240 (560)\ttotal: 3m 1s\tremaining: 1m 17s\n",
      "570:\tlearn: 0.4339924\ttest: 0.4390688\tbest: 0.4390688 (570)\ttotal: 3m 4s\tremaining: 1m 14s\n",
      "580:\tlearn: 0.4292227\ttest: 0.4342727\tbest: 0.4342727 (580)\ttotal: 3m 7s\tremaining: 1m 10s\n",
      "590:\tlearn: 0.4259558\ttest: 0.4310100\tbest: 0.4310100 (590)\ttotal: 3m 11s\tremaining: 1m 7s\n",
      "600:\tlearn: 0.4216976\ttest: 0.4268342\tbest: 0.4268342 (600)\ttotal: 3m 14s\tremaining: 1m 4s\n",
      "610:\tlearn: 0.4191584\ttest: 0.4243482\tbest: 0.4243482 (610)\ttotal: 3m 17s\tremaining: 1m 1s\n",
      "620:\tlearn: 0.4155722\ttest: 0.4207844\tbest: 0.4207844 (620)\ttotal: 3m 20s\tremaining: 57.9s\n",
      "630:\tlearn: 0.4123608\ttest: 0.4175823\tbest: 0.4175823 (630)\ttotal: 3m 23s\tremaining: 54.6s\n",
      "640:\tlearn: 0.4089205\ttest: 0.4141793\tbest: 0.4141793 (640)\ttotal: 3m 27s\tremaining: 51.4s\n",
      "650:\tlearn: 0.4067217\ttest: 0.4120674\tbest: 0.4120674 (650)\ttotal: 3m 30s\tremaining: 48.2s\n",
      "660:\tlearn: 0.4023600\ttest: 0.4077189\tbest: 0.4077189 (660)\ttotal: 3m 33s\tremaining: 44.9s\n",
      "670:\tlearn: 0.3972163\ttest: 0.4025847\tbest: 0.4025847 (670)\ttotal: 3m 36s\tremaining: 41.7s\n",
      "680:\tlearn: 0.3940093\ttest: 0.3994528\tbest: 0.3994528 (680)\ttotal: 3m 40s\tremaining: 38.5s\n",
      "690:\tlearn: 0.3919148\ttest: 0.3973824\tbest: 0.3973824 (690)\ttotal: 3m 43s\tremaining: 35.2s\n",
      "700:\tlearn: 0.3884414\ttest: 0.3939659\tbest: 0.3939659 (700)\ttotal: 3m 46s\tremaining: 32s\n",
      "710:\tlearn: 0.3863976\ttest: 0.3919821\tbest: 0.3919821 (710)\ttotal: 3m 49s\tremaining: 28.8s\n",
      "720:\tlearn: 0.3847274\ttest: 0.3903320\tbest: 0.3903320 (720)\ttotal: 3m 53s\tremaining: 25.5s\n",
      "730:\tlearn: 0.3814900\ttest: 0.3871525\tbest: 0.3871525 (730)\ttotal: 3m 56s\tremaining: 22.3s\n",
      "740:\tlearn: 0.3784535\ttest: 0.3841568\tbest: 0.3841568 (740)\ttotal: 3m 59s\tremaining: 19.1s\n",
      "750:\tlearn: 0.3747038\ttest: 0.3804396\tbest: 0.3804396 (750)\ttotal: 4m 2s\tremaining: 15.8s\n",
      "760:\tlearn: 0.3720735\ttest: 0.3778302\tbest: 0.3778302 (760)\ttotal: 4m 5s\tremaining: 12.6s\n",
      "770:\tlearn: 0.3697472\ttest: 0.3754948\tbest: 0.3754948 (770)\ttotal: 4m 9s\tremaining: 9.37s\n",
      "780:\tlearn: 0.3664201\ttest: 0.3721334\tbest: 0.3721334 (780)\ttotal: 4m 12s\tremaining: 6.14s\n",
      "790:\tlearn: 0.3637568\ttest: 0.3695260\tbest: 0.3695260 (790)\ttotal: 4m 15s\tremaining: 2.91s\n",
      "799:\tlearn: 0.3622230\ttest: 0.3679788\tbest: 0.3679788 (799)\ttotal: 4m 18s\tremaining: 0us\n",
      "bestTest = 0.3679787774\n",
      "bestIteration = 799\n",
      "0.8968216523603271\n",
      "0.893670594595677\n",
      "there are still 0 values to fill\n",
      "----------------\n",
      "\n"
     ]
    }
   ],
   "source": [
    "### FORMATION prediction. We define predictors, classifier and we train and predict FORMATION feature\n",
    "formation_predictors = ['DEPTH_MD',\"enc_GROUP\", 'X_LOC', 'Y_LOC', 'Z_LOC','RMED', 'RDEP', 'RHOB', 'GR', 'NPHI',\n",
    "                       'DTC',\"RSHA\"]\n",
    "\n",
    "target = \"FORMATION\"\n",
    "cat_1 = formation_predictors.index(\"enc_GROUP\")\n",
    "encoded_cat = [\"enc_GROUP\"]\n",
    "\n",
    "catboost_classifier = CatBoostClassifier(iterations=800,learning_rate=0.1,depth = 4,\n",
    "                                            min_data_in_leaf = 50,\n",
    "                                            bagging_temperature = 10,\n",
    "                                            cat_features = [cat_1],\n",
    "                                            grow_policy = 'Depthwise',objective='MultiClass',\n",
    "                                            custom_metric = ['Accuracy'],\n",
    "                                            early_stopping_rounds = 100,task_type='GPU',\n",
    "                                            train_dir = data_folder)\n",
    "filled3, formation_imputer, formation_predictors_scaler = get_predictor(filled2.loc[:,filled2.columns],\n",
    "                                                                  catboost_classifier,\n",
    "                                                                   target=target,\n",
    "                                                                regressors=formation_predictors,\n",
    "                                                                           encoded_cat=encoded_cat)"
   ]
  },
  {
   "cell_type": "code",
   "execution_count": 16,
   "metadata": {},
   "outputs": [
    {
     "data": {
      "image/png": "[encoded data removed]",
      "text/plain": [
       "<Figure size 1440x1440 with 1 Axes>"
      ]
     },
     "metadata": {},
     "output_type": "display_data"
    }
   ],
   "source": [
    "plot_features_importance(formation_imputer.feature_importances_,\n",
    "                         formation_imputer.feature_names_,figsize=(20,20))"
   ]
  },
  {
   "cell_type": "code",
   "execution_count": 17,
   "metadata": {},
   "outputs": [
    {
     "name": "stdout",
     "output_type": "stream",
     "text": [
      "Accuracy of FORMATION classifier is :  0.6607257098061831\n"
     ]
    }
   ],
   "source": [
    "mask = filled2.FORMATION.notna()\n",
    "num_features = list(set(formation_predictors) - set(encoded_cat))\n",
    "vali  = filled2.loc[mask,num_features]\n",
    "vali[vali.columns] = formation_predictors_scaler.transform(vali)\n",
    "vali[encoded_cat] = filled2.loc[mask,encoded_cat]\n",
    "print(\"Accuracy of FORMATION classifier is : \",accuracy_score(filled2.loc[mask,\"FORMATION\"].values,\n",
    "                                              formation_imputer.predict(vali[formation_predictors])))\n"
   ]
  },
  {
   "cell_type": "markdown",
   "metadata": {},
   "source": [
    "## Final step\n",
    "fill null values for train/val/test sets"
   ]
  },
  {
   "cell_type": "code",
   "execution_count": 18,
   "metadata": {},
   "outputs": [
    {
     "name": "stdout",
     "output_type": "stream",
     "text": [
      "[IterativeImputer] Completing matrix with shape (1170511, 12)\n"
     ]
    }
   ],
   "source": [
    "##let's fill the whole dataset and save everything\n",
    "filled_whole = logs_processor.get_processed_data(train_df.loc[:,train_df.columns])"
   ]
  },
  {
   "cell_type": "code",
   "execution_count": 19,
   "metadata": {},
   "outputs": [],
   "source": [
    "##fill GROUP\n",
    "filled_whole2 = filled_whole.loc[:,filled_whole.columns]\n",
    "mask = filled_whole2.GROUP.isna()\n",
    "if mask.any():\n",
    "    vali = group_predictors_scaler.transform(filled_whole2.loc[mask,group_predictors])\n",
    "    filled_whole2.loc[mask,\"GROUP\"] = group_imputer.predict(vali)"
   ]
  },
  {
   "cell_type": "code",
   "execution_count": 20,
   "metadata": {},
   "outputs": [],
   "source": [
    "## fill FORMATION\n",
    "filled_whole2[\"enc_GROUP\"] = filled_whole2.GROUP.map(lambda x: logs_processor.all_groups.get(x,1000)).astype(int).astype(\"category\")\n",
    "\n",
    "filled_whole3 = filled_whole2.loc[:,filled_whole2.columns]\n",
    "\n",
    "encoded_cat = [\"enc_GROUP\"]\n",
    "num_features = list(set(formation_predictors) - set(encoded_cat))\n",
    "\n",
    "\n",
    "mask = filled_whole3.FORMATION.isna()\n",
    "if mask.any():\n",
    "    vali  = filled_whole3.loc[mask,num_features]\n",
    "    vali[vali.columns] = formation_predictors_scaler.transform(vali)\n",
    "    vali[encoded_cat] = filled_whole3[encoded_cat]\n",
    "    filled_whole3.loc[mask,\"FORMATION\"] = formation_imputer.predict(vali[formation_predictors])"
   ]
  },
  {
   "cell_type": "markdown",
   "metadata": {},
   "source": [
    "## Saving \n",
    "Now we save processed data and processing pipeline."
   ]
  },
  {
   "cell_type": "code",
   "execution_count": 21,
   "metadata": {
    "executionInfo": {
     "elapsed": 851,
     "status": "ok",
     "timestamp": 1602797336388,
     "user": {
      "displayName": "Arnaud Yankwa",
      "photoUrl": "",
      "userId": "14841658183693520304"
     },
     "user_tz": -120
    },
    "id": "daXY5wiFKm9Z"
   },
   "outputs": [],
   "source": [
    " from joblib import dump, load"
   ]
  },
  {
   "cell_type": "code",
   "execution_count": 22,
   "metadata": {},
   "outputs": [],
   "source": [
    "filled_whole3.loc[:,['FORCE_2020_LITHOFACIES_LITHOLOGY','FORCE_2020_LITHOFACIES_CONFIDENCE']] = train_df.loc[:,['FORCE_2020_LITHOFACIES_LITHOLOGY','FORCE_2020_LITHOFACIES_CONFIDENCE']]"
   ]
  },
  {
   "cell_type": "code",
   "execution_count": 23,
   "metadata": {},
   "outputs": [
    {
     "name": "stdout",
     "output_type": "stream",
     "text": [
      "Memory usage of properties dataframe is : 142.884765625  MB\n",
      "******************************\n",
      "Column:  RMED\n",
      "dtype before:  float64\n",
      "dtype after:  float32\n",
      "******************************\n",
      "******************************\n",
      "Column:  RDEP\n",
      "dtype before:  float64\n",
      "dtype after:  float32\n",
      "******************************\n",
      "******************************\n",
      "Column:  RHOB\n",
      "dtype before:  float64\n",
      "dtype after:  float32\n",
      "******************************\n",
      "******************************\n",
      "Column:  GR\n",
      "dtype before:  float64\n",
      "dtype after:  float32\n",
      "******************************\n",
      "******************************\n",
      "Column:  NPHI\n",
      "dtype before:  float64\n",
      "dtype after:  float32\n",
      "******************************\n",
      "******************************\n",
      "Column:  DTC\n",
      "dtype before:  float64\n",
      "dtype after:  float32\n",
      "******************************\n",
      "******************************\n",
      "Column:  RXO\n",
      "dtype before:  float64\n",
      "dtype after:  float32\n",
      "******************************\n",
      "******************************\n",
      "Column:  RSHA\n",
      "dtype before:  float64\n",
      "dtype after:  float32\n",
      "******************************\n",
      "******************************\n",
      "Column:  X_LOC\n",
      "dtype before:  float64\n",
      "dtype after:  float32\n",
      "******************************\n",
      "******************************\n",
      "Column:  Y_LOC\n",
      "dtype before:  float64\n",
      "dtype after:  float32\n",
      "******************************\n",
      "******************************\n",
      "Column:  Z_LOC\n",
      "dtype before:  float64\n",
      "dtype after:  float32\n",
      "******************************\n",
      "******************************\n",
      "Column:  DEPTH_MD\n",
      "dtype before:  float64\n",
      "dtype after:  float32\n",
      "******************************\n",
      "******************************\n",
      "Column:  FORCE_2020_LITHOFACIES_LITHOLOGY\n",
      "dtype before:  uint32\n",
      "dtype after:  uint32\n",
      "******************************\n",
      "******************************\n",
      "Column:  FORCE_2020_LITHOFACIES_CONFIDENCE\n",
      "dtype before:  float32\n",
      "dtype after:  float32\n",
      "******************************\n",
      "___MEMORY USAGE AFTER COMPLETION:___\n",
      "Memory usage is:  89.30302429199219  MB\n",
      "This is  62.50003203726233 % of the initial size\n"
     ]
    }
   ],
   "source": [
    "filled_whole3,na = reduce_mem_usage(filled_whole3.drop(columns=\"enc_GROUP\"))"
   ]
  },
  {
   "cell_type": "code",
   "execution_count": 24,
   "metadata": {},
   "outputs": [
    {
     "name": "stdout",
     "output_type": "stream",
     "text": [
      "<class 'pandas.core.frame.DataFrame'>\n",
      "RangeIndex: 1170511 entries, 0 to 1170510\n",
      "Data columns (total 17 columns):\n",
      " #   Column                             Non-Null Count    Dtype  \n",
      "---  ------                             --------------    -----  \n",
      " 0   RMED                               1170511 non-null  float32\n",
      " 1   RDEP                               1170511 non-null  float32\n",
      " 2   RHOB                               1170511 non-null  float32\n",
      " 3   GR                                 1170511 non-null  float32\n",
      " 4   NPHI                               1170511 non-null  float32\n",
      " 5   DTC                                1170511 non-null  float32\n",
      " 6   RXO                                1170511 non-null  float32\n",
      " 7   RSHA                               1170511 non-null  float32\n",
      " 8   X_LOC                              1170511 non-null  float32\n",
      " 9   Y_LOC                              1170511 non-null  float32\n",
      " 10  Z_LOC                              1170511 non-null  float32\n",
      " 11  DEPTH_MD                           1170511 non-null  float32\n",
      " 12  GROUP                              1170511 non-null  object \n",
      " 13  FORMATION                          1170511 non-null  object \n",
      " 14  WELL                               1170511 non-null  object \n",
      " 15  FORCE_2020_LITHOFACIES_LITHOLOGY   1170511 non-null  uint32 \n",
      " 16  FORCE_2020_LITHOFACIES_CONFIDENCE  1170332 non-null  float32\n",
      "dtypes: float32(13), object(3), uint32(1)\n",
      "memory usage: 89.3+ MB\n"
     ]
    }
   ],
   "source": [
    "#### All features are filled. The only exception is FORCE_2020_LITHOFACIES_CONFIDENCE \n",
    "#but it doesn't matter since we are not using \n",
    "filled_whole3.info()"
   ]
  },
  {
   "cell_type": "code",
   "execution_count": 25,
   "metadata": {},
   "outputs": [],
   "source": [
    "filled_whole3.to_csv(data_folder+\"filled_train.csv\",index=False)"
   ]
  },
  {
   "cell_type": "code",
   "execution_count": 26,
   "metadata": {},
   "outputs": [],
   "source": [
    "logs_processor.save_processing_params(data_folder=data_folder)"
   ]
  },
  {
   "cell_type": "code",
   "execution_count": 27,
   "metadata": {
    "executionInfo": {
     "elapsed": 879,
     "status": "ok",
     "timestamp": 1602797585564,
     "user": {
      "displayName": "Arnaud Yankwa",
      "photoUrl": "",
      "userId": "14841658183693520304"
     },
     "user_tz": -120
    },
    "id": "yi6nNZ67Y6gM"
   },
   "outputs": [
    {
     "data": {
      "text/plain": [
       "['data/formation_imputer.joblib']"
      ]
     },
     "execution_count": 27,
     "metadata": {},
     "output_type": "execute_result"
    }
   ],
   "source": [
    "###### Save GROUP classifier\n",
    "group_name = \"group_imputer\"\n",
    "group_dict = {}\n",
    "group_dict[\"predictors\"] = group_predictors\n",
    "group_dict[\"imputer\"] = group_imputer\n",
    "group_dict[\"scaler\"] = group_predictors_scaler\n",
    "\n",
    "dump(group_dict,data_folder+group_name+\".joblib\")\n",
    "\n",
    "###### Save FORMATION classifier\n",
    "formation_name = \"formation_imputer\"\n",
    "formation_dict = {}\n",
    "formation_dict[\"predictors\"] = formation_predictors\n",
    "formation_dict[\"imputer\"] = formation_imputer\n",
    "formation_dict[\"scaler\"] = formation_predictors_scaler\n",
    "\n",
    "dump(formation_dict,data_folder+formation_name+\".joblib\")"
   ]
  },
  {
   "cell_type": "markdown",
   "metadata": {
    "id": "KEQfMXujMOPU"
   },
   "source": [
    "This is the end of data processing. We did null values imputation, categorical features encoding and numeric features scaling. "
   ]
  }
 ],
 "metadata": {
  "accelerator": "GPU",
  "colab": {
   "authorship_tag": "ABX9TyOG8T+s/XXHKuKMZS8ZAVIG",
   "collapsed_sections": [
    "osxP7PEOGGlK"
   ],
   "name": "force_ml_modelisation_4.ipynb",
   "provenance": []
  },
  "kernelspec": {
   "display_name": "Python [conda env:conda-leyanki_tf] *",
   "language": "python",
   "name": "conda-env-conda-leyanki_tf-py"
  },
  "language_info": {
   "codemirror_mode": {
    "name": "ipython",
    "version": 3
   },
   "file_extension": ".py",
   "mimetype": "text/x-python",
   "name": "python",
   "nbconvert_exporter": "python",
   "pygments_lexer": "ipython3",
   "version": "3.7.3"
  },
  "toc": {
   "base_numbering": 1,
   "nav_menu": {},
   "number_sections": true,
   "sideBar": true,
   "skip_h1_title": false,
   "title_cell": "Table of Contents",
   "title_sidebar": "Contents",
   "toc_cell": false,
   "toc_position": {
    "height": "calc(100% - 180px)",
    "left": "10px",
    "top": "150px",
    "width": "384px"
   },
   "toc_section_display": true,
   "toc_window_display": true
  },
  "varInspector": {
   "cols": {
    "lenName": 16,
    "lenType": 16,
    "lenVar": 40
   },
   "kernels_config": {
    "python": {
     "delete_cmd_postfix": "",
     "delete_cmd_prefix": "del ",
     "library": "var_list.py",
     "varRefreshCmd": "print(var_dic_list())"
    },
    "r": {
     "delete_cmd_postfix": ") ",
     "delete_cmd_prefix": "rm(",
     "library": "var_list.r",
     "varRefreshCmd": "cat(var_dic_list()) "
    }
   },
   "types_to_exclude": [
    "module",
    "function",
    "builtin_function_or_method",
    "instance",
    "_Feature"
   ],
   "window_display": false
  }
 },
 "nbformat": 4,
 "nbformat_minor": 1
}
